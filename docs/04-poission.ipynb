{
 "cells": [
  {
   "cell_type": "markdown",
   "metadata": {},
   "source": [
    "# Solving Poisson PDE Systems with NeuralPDE\n",
    "\n",
    "$$\n",
    "\\partial^{2}_{x}u(x,y) + \\partial^{2}_{y}u(x,y) = -\\sin (\\pi x) \\sin (\\pi y)\n",
    "$$\n",
    "\n",
    "boundary condition\n",
    "\n",
    "$$\n",
    "\\begin{align}\n",
    "u(0, y) &= 0 \\\\\n",
    "u(1, y) &= 0 \\\\\n",
    "u(x, 0) &= 0 \\\\\n",
    "u(x, 1) &= 0 \\\\\n",
    "\\end{align}\n",
    "$$"
   ]
  },
  {
   "cell_type": "code",
   "execution_count": null,
   "metadata": {},
   "outputs": [],
   "source": [
    "using NeuralPDE\n",
    "using Lux\n",
    "using Plots\n",
    "using Optimization\n",
    "using OptimizationOptimJL\n",
    "using ModelingToolkit\n",
    "import ModelingToolkit: Interval"
   ]
  },
  {
   "cell_type": "code",
   "execution_count": null,
   "metadata": {},
   "outputs": [],
   "source": [
    "@parameters x y\n",
    "@variables u(..)\n",
    "Dxx = Differential(x)^2\n",
    "Dyy = Differential(y)^2\n",
    "\n",
    "# 2D PDE\n",
    "eq  = Dxx(u(x, y)) + Dyy(u(x, y)) ~ -sinpi(x) * sinpi(y)\n",
    "\n",
    "# Boundary conditions\n",
    "bcs = [u(0, y) ~ 0.0, u(1, y) ~ 0.0,\n",
    "       u(x, 0) ~ 0.0, u(x, 1) ~ 0.0]\n",
    "# Space and time domains\n",
    "domains = [x ∈ Interval(0.0, 1.0),\n",
    "           y ∈ Interval(0.0, 1.0)]"
   ]
  },
  {
   "cell_type": "markdown",
   "metadata": {},
   "source": [
    "We build a Neural Network for the NPDE solver."
   ]
  },
  {
   "cell_type": "code",
   "execution_count": null,
   "metadata": {},
   "outputs": [],
   "source": [
    "# Neural network\n",
    "const dim = 2 # number of dimensions\n",
    "chain = Lux.Chain(Dense(dim, 16, Lux.σ), Dense(16, 16, Lux.σ), Dense(16, 1))"
   ]
  },
  {
   "cell_type": "code",
   "execution_count": null,
   "metadata": {},
   "outputs": [],
   "source": [
    "# Discretization method\n",
    "dx = 0.05\n",
    "discretization = PhysicsInformedNN(chain, GridTraining(dx))"
   ]
  },
  {
   "cell_type": "markdown",
   "metadata": {},
   "source": [
    "Next we build our PDE system and discretize it. Since the system is time-invariant, the resulting problem is an `OptimizationProblem`. "
   ]
  },
  {
   "cell_type": "code",
   "execution_count": null,
   "metadata": {},
   "outputs": [],
   "source": [
    "# Build PDE system\n",
    "@named pde_system = PDESystem(eq, bcs, domains, [x, y], [u(x, y)])\n",
    "prob = discretize(pde_system, discretization)"
   ]
  },
  {
   "cell_type": "markdown",
   "metadata": {},
   "source": [
    "We define the callback function and the optimizer."
   ]
  },
  {
   "cell_type": "code",
   "execution_count": null,
   "metadata": {},
   "outputs": [],
   "source": [
    "#Optimizer\n",
    "opt = OptimizationOptimJL.BFGS()\n",
    "\n",
    "callback = function (p,l)\n",
    "    println(\"Current loss is: $l\")\n",
    "    return false\n",
    "end\n",
    "\n",
    "res = Optimization.solve(prob, opt, callback = callback, maxiters=1000)\n",
    "phi = discretization.phi"
   ]
  },
  {
   "cell_type": "markdown",
   "metadata": {},
   "source": [
    "We can plot the predicted solution of the PDE and compare it with the analytical solution to see the relative error."
   ]
  },
  {
   "cell_type": "code",
   "execution_count": null,
   "metadata": {},
   "outputs": [],
   "source": [
    "xs,ys = [infimum(d.domain):dx/10:supremum(d.domain) for d in domains]\n",
    "analytic_sol_func(x,y) = (sinpi(x)*sinpi(y))/(2pi^2)\n",
    "\n",
    "u_predict = reshape([first(phi([x, y], res.u)) for x in xs for y in ys], (length(xs), length(ys)))\n",
    "u_real = reshape([analytic_sol_func(x, y) for x in xs for y in ys], (length(xs), length(ys)))\n",
    "diff_u = abs.(u_predict .- u_real)\n",
    "\n",
    "using Plots\n",
    "\n",
    "p1 = plot(xs, ys, u_real, linetype=:contourf, title = \"analytic\");\n",
    "p2 = plot(xs, ys, u_predict, linetype=:contourf, title = \"predict\");\n",
    "p3 = plot(xs, ys, diff_u, linetype=:contourf, title = \"error\");\n",
    "plot(p1, p2, p3)"
   ]
  }
 ],
 "metadata": {
  "kernelspec": {
   "display_name": "Julia 1.8.3",
   "language": "julia",
   "name": "julia-1.8"
  },
  "language_info": {
   "file_extension": ".jl",
   "mimetype": "application/julia",
   "name": "julia",
   "version": "1.8.3"
  },
  "orig_nbformat": 4,
  "vscode": {
   "interpreter": {
    "hash": "15797d33d1cab213662005252923a76f243c77feea1ba8fecf4a38bff16b6796"
   }
  }
 },
 "nbformat": 4,
 "nbformat_minor": 2
}
