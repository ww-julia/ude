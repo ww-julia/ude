{
 "cells": [
  {
   "cell_type": "markdown",
   "metadata": {},
   "source": [
    "# Multiple Shooting\n",
    "\n",
    "Docs: https://diffeqflux.sciml.ai/dev/examples/multiple_shooting/\n",
    "\n",
    "In Multiple Shooting, the training data is split into overlapping intervals. The solver is then trained on individual intervals."
   ]
  },
  {
   "cell_type": "code",
   "execution_count": null,
   "metadata": {},
   "outputs": [],
   "source": [
    "using Lux\n",
    "using DiffEqFlux\n",
    "using Optimization\n",
    "using OptimizationPolyalgorithms\n",
    "using OrdinaryDiffEq\n",
    "using DiffEqFlux: group_ranges\n",
    "using Plots\n",
    "using Random\n",
    "rng = Random.default_rng()"
   ]
  },
  {
   "cell_type": "code",
   "execution_count": null,
   "metadata": {},
   "outputs": [],
   "source": [
    "# Define initial conditions and time steps\n",
    "datasize = 30\n",
    "u0 = Float32[2.0, 0.0]\n",
    "tspan = (0.0f0, 5.0f0)\n",
    "tsteps = range(tspan[begin], tspan[end], length = datasize)"
   ]
  },
  {
   "cell_type": "code",
   "execution_count": null,
   "metadata": {},
   "outputs": [],
   "source": [
    "const true_A = Float32[-0.1 2.0; -2.0 -0.1]\n",
    "# Get the data\n",
    "\n",
    "function trueODEfunc!(du, u, p, t)\n",
    "    du .= ((u.^3)'true_A)'\n",
    "end"
   ]
  },
  {
   "cell_type": "code",
   "execution_count": null,
   "metadata": {},
   "outputs": [],
   "source": [
    "prob_trueode = ODEProblem(trueODEfunc!, u0, tspan)\n",
    "ode_data = Array(solve(prob_trueode, Tsit5(), saveat = tsteps))"
   ]
  },
  {
   "cell_type": "code",
   "execution_count": null,
   "metadata": {},
   "outputs": [],
   "source": [
    "# Define the Neural Network\n",
    "nn = Lux.Chain(\n",
    "    ActivationFunction(x -> x.^3),\n",
    "    Lux.Dense(2, 16, tanh),\n",
    "    Lux.Dense(16, 2)\n",
    ")\n",
    "p_init, st = Lux.setup(rng, nn)"
   ]
  },
  {
   "cell_type": "code",
   "execution_count": null,
   "metadata": {},
   "outputs": [],
   "source": [
    "neuralode = NeuralODE(nn, tspan, Tsit5(), saveat = tsteps)\n",
    "prob_node = ODEProblem((u,p,t)->nn(u,p,st)[1], u0, tspan, Lux.ComponentArray(p_init))"
   ]
  },
  {
   "cell_type": "code",
   "execution_count": null,
   "metadata": {},
   "outputs": [],
   "source": [
    "function plot_multiple_shoot(plt, preds, group_size)\n",
    "\tstep = group_size-1\n",
    "\tranges = group_ranges(datasize, group_size)\n",
    "\n",
    "\tfor (i, rg) in enumerate(ranges)\n",
    "\t\tplot!(plt, tsteps[rg], preds[i][1,:], markershape=:circle, label=\"Group $(i)\")\n",
    "\tend\n",
    "end\n",
    "\n",
    "# Animate training\n",
    "anim = Animation()\n",
    "callback = function (p, l, preds; doplot = true)\n",
    "  # display(l)\n",
    "  if doplot\n",
    "\t# plot the original data\n",
    "\tplt = scatter(tsteps, ode_data[1,:], label = \"Data\")\n",
    "\n",
    "\t# plot the different predictions for individual shoot\n",
    "\tplot_multiple_shoot(plt, preds, group_size)\n",
    "\n",
    "    frame(anim)\n",
    "    # display(plot(plt))\n",
    "  end\n",
    "  return false\n",
    "end"
   ]
  },
  {
   "cell_type": "code",
   "execution_count": null,
   "metadata": {},
   "outputs": [],
   "source": [
    "# Define parameters for Multiple Shooting\n",
    "group_size = 3\n",
    "continuity_term = 200\n",
    "\n",
    "function loss_function(data, pred)\n",
    "\treturn sum(abs2, data - pred)\n",
    "end\n",
    "\n",
    "function loss_multiple_shooting(p)\n",
    "    return multiple_shoot(p, ode_data, tsteps, prob_node, loss_function, Tsit5(), group_size; continuity_term)\n",
    "end"
   ]
  },
  {
   "cell_type": "code",
   "execution_count": null,
   "metadata": {},
   "outputs": [],
   "source": [
    "adtype = Optimization.AutoZygote()\n",
    "optf = Optimization.OptimizationFunction((x,p) -> loss_multiple_shooting(x), adtype)\n",
    "optprob = Optimization.OptimizationProblem(optf, Lux.ComponentArray(p_init))\n",
    "res_ms = Optimization.solve(optprob, PolyOpt(), callback = callback)"
   ]
  },
  {
   "cell_type": "code",
   "execution_count": null,
   "metadata": {},
   "outputs": [],
   "source": [
    "mp4(anim, fps=15)"
   ]
  },
  {
   "cell_type": "markdown",
   "metadata": {},
   "source": [
    "## Runtime information"
   ]
  },
  {
   "cell_type": "code",
   "execution_count": null,
   "metadata": {},
   "outputs": [],
   "source": [
    "versioninfo()"
   ]
  },
  {
   "cell_type": "code",
   "execution_count": null,
   "metadata": {},
   "outputs": [],
   "source": [
    "using Pkg\n",
    "Pkg.status()"
   ]
  }
 ],
 "metadata": {
  "kernelspec": {
   "display_name": "Julia 1.8.3",
   "language": "julia",
   "name": "julia-1.8"
  },
  "language_info": {
   "file_extension": ".jl",
   "mimetype": "application/julia",
   "name": "julia",
   "version": "1.8.3"
  },
  "orig_nbformat": 4
 },
 "nbformat": 4,
 "nbformat_minor": 2
}
