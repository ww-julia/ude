{
 "cells": [
  {
   "cell_type": "markdown",
   "metadata": {},
   "source": [
    "# Solving ODEs with NeuralPDE.jl\n",
    "\n",
    "From https://neuralpde.sciml.ai/dev/tutorials/ode/\n",
    "\n",
    "For example, solving the ODE\n",
    "\n",
    "$$\n",
    "u^{\\prime} = cos(2 \\pi t)\n",
    "$$"
   ]
  },
  {
   "cell_type": "code",
   "execution_count": null,
   "metadata": {},
   "outputs": [],
   "source": [
    "using NeuralPDE\n",
    "using Flux\n",
    "using OptimizationOptimisers\n",
    "using OrdinaryDiffEq"
   ]
  },
  {
   "cell_type": "code",
   "execution_count": null,
   "metadata": {},
   "outputs": [],
   "source": [
    "model(u, p, t) = cospi(2t)\n",
    "tspan = (0.0f0, 1.0f0)\n",
    "u0 = 0.0f0\n",
    "prob = ODEProblem(model, u0, tspan)"
   ]
  },
  {
   "cell_type": "markdown",
   "metadata": {},
   "source": [
    "We need to define a neural network to solve the ODE problem."
   ]
  },
  {
   "cell_type": "code",
   "execution_count": null,
   "metadata": {},
   "outputs": [],
   "source": [
    "chain = Flux.Chain(Dense(1, 5, Flux.σ), Dense(5, 1))"
   ]
  },
  {
   "cell_type": "code",
   "execution_count": null,
   "metadata": {},
   "outputs": [],
   "source": [
    "optimizer = OptimizationOptimisers.Adam(0.1)\n",
    "alg = NeuralPDE.NNODE(chain, optimizer)"
   ]
  },
  {
   "cell_type": "markdown",
   "metadata": {},
   "source": [
    "And we solve the ODE as before, just replace the solver algorithm to `NeuralPDE` with common ones (e.g. `Tsit5()`)."
   ]
  },
  {
   "cell_type": "code",
   "execution_count": null,
   "metadata": {},
   "outputs": [],
   "source": [
    "sol = solve(prob, alg, verbose=true, abstol=1f-6, maxiters=200)"
   ]
  },
  {
   "cell_type": "code",
   "execution_count": null,
   "metadata": {},
   "outputs": [],
   "source": [
    "# Comparing to the ODDE solver\n",
    "sol2 = solve(prob, Tsit5(), abstol=1f-6, saveat=sol.t)"
   ]
  },
  {
   "cell_type": "code",
   "execution_count": null,
   "metadata": {},
   "outputs": [],
   "source": [
    "using LinearAlgebra\n",
    "\n",
    "norm(sol.u .- sol2.u, Inf)"
   ]
  }
 ],
 "metadata": {
  "kernelspec": {
   "display_name": "Julia 1.8.3",
   "language": "julia",
   "name": "julia-1.8"
  },
  "language_info": {
   "file_extension": ".jl",
   "mimetype": "application/julia",
   "name": "julia",
   "version": "1.8.3"
  },
  "orig_nbformat": 4,
  "vscode": {
   "interpreter": {
    "hash": "15797d33d1cab213662005252923a76f243c77feea1ba8fecf4a38bff16b6796"
   }
  }
 },
 "nbformat": 4,
 "nbformat_minor": 2
}
