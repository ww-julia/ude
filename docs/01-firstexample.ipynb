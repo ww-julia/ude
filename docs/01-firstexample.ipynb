{
 "cells": [
  {
   "cell_type": "markdown",
   "id": "6a2385e8-96d9-4683-ade2-3cf50cb3ac6a",
   "metadata": {},
   "source": [
    "# First N-ODE example\n",
    "\n",
    "A neural ODE is an ODE where a neural network defines its derivative function. $\\dot{u} = NN(u)$\n",
    "\n",
    "Docs: https://diffeqflux.sciml.ai/dev/examples/neural_ode/"
   ]
  },
  {
   "cell_type": "code",
   "execution_count": null,
   "id": "bc2fe53f",
   "metadata": {},
   "outputs": [],
   "source": [
    "using Lux\n",
    "using DiffEqFlux\n",
    "using OrdinaryDiffEq\n",
    "using Optimization\n",
    "using OptimizationOptimJL\n",
    "using Random\n",
    "using Plots\n",
    "\n",
    "rng = Random.default_rng()"
   ]
  },
  {
   "cell_type": "code",
   "execution_count": null,
   "id": "58dc1c46",
   "metadata": {},
   "outputs": [],
   "source": [
    "u0 = Float32[2.0; 0.0]\n",
    "datasize = 30\n",
    "tspan = (0.0f0, 1.5f0)\n",
    "tsteps = range(tspan[begin], tspan[end], length = datasize)"
   ]
  },
  {
   "cell_type": "markdown",
   "id": "389b09aa",
   "metadata": {},
   "source": [
    "A sprial ODE to train against."
   ]
  },
  {
   "cell_type": "code",
   "execution_count": null,
   "id": "39bb099c",
   "metadata": {},
   "outputs": [],
   "source": [
    "const true_A = Float32[-0.1 2.0; -2.0 -0.1]\n",
    "\n",
    "function trueODEfunc!(du, u, p, t)\n",
    "    du .= ((u.^3)'true_A)'\n",
    "end"
   ]
  },
  {
   "cell_type": "code",
   "execution_count": null,
   "id": "ca504728",
   "metadata": {},
   "outputs": [],
   "source": [
    "prob_trueode = ODEProblem(trueODEfunc!, u0, tspan)\n",
    "ode_data = Array(solve(prob_trueode, Tsit5(), saveat = tsteps))"
   ]
  },
  {
   "cell_type": "code",
   "execution_count": null,
   "id": "9e5a554a",
   "metadata": {},
   "outputs": [],
   "source": [
    "nodeFunc = Lux.Chain(\n",
    "    ActivationFunction(x -> x.^3),\n",
    "    Lux.Dense(2, 50, tanh),\n",
    "    Lux.Dense(50, 2)\n",
    ")\n",
    "\n",
    "p, st = Lux.setup(rng, nodeFunc)"
   ]
  },
  {
   "cell_type": "code",
   "execution_count": null,
   "id": "3f35c1c6",
   "metadata": {},
   "outputs": [],
   "source": [
    "# Parameters for neural network\n",
    "p"
   ]
  },
  {
   "cell_type": "code",
   "execution_count": null,
   "id": "7999e05e",
   "metadata": {},
   "outputs": [],
   "source": [
    "# Use NeuroODE to construct an DE problem object\n",
    "prob_node = NeuralODE(nodeFunc, tspan, Tsit5(), saveat = tsteps)"
   ]
  },
  {
   "cell_type": "code",
   "execution_count": null,
   "id": "1f4812b8",
   "metadata": {},
   "outputs": [],
   "source": [
    "function predict_neuralode(p)\n",
    "    Array(prob_node(u0, p, st)[1])\n",
    "end\n",
    "  \n",
    "function loss_neuralode(p)\n",
    "    pred = predict_neuralode(p)\n",
    "    loss = sum(abs2, ode_data .- pred)\n",
    "    return loss, pred\n",
    "end\n",
    "\n",
    "# Callback function to observe training\n",
    "anim = Animation()\n",
    "callback = function (p, l, pred; doplot = true)\n",
    "  # display(l)\n",
    "  if doplot\n",
    "\tplt = scatter(tsteps, ode_data[1,:], label = \"data\")\n",
    "    scatter!(plt, tsteps, pred[1,:], label = \"prediction\")\n",
    "    frame(anim)\n",
    "    # display(plot(plt))\n",
    "  end\n",
    "  return false\n",
    "end"
   ]
  },
  {
   "cell_type": "code",
   "execution_count": null,
   "id": "6fa507be",
   "metadata": {},
   "outputs": [],
   "source": [
    "# Train using the ADAM optimizer\n",
    "adtype = Optimization.AutoZygote()\n",
    "optf = Optimization.OptimizationFunction((x, p) -> loss_neuralode(x), adtype)\n",
    "optprob = Optimization.OptimizationProblem(optf, Lux.ComponentArray(p))"
   ]
  },
  {
   "cell_type": "code",
   "execution_count": null,
   "id": "e1a77db0",
   "metadata": {},
   "outputs": [],
   "source": [
    "result_neuralode = Optimization.solve(\n",
    "    optprob,\n",
    "    ADAM(0.05),\n",
    "    callback = callback,\n",
    "    maxiters = 300\n",
    ")"
   ]
  },
  {
   "cell_type": "code",
   "execution_count": null,
   "id": "57dd166f",
   "metadata": {},
   "outputs": [],
   "source": [
    "# Retrain using the LBFGS optimizer\n",
    "optprob2 = remake(optprob, u0 = result_neuralode.u)\n",
    "\n",
    "result_neuralode2 = Optimization.solve(\n",
    "    optprob2,\n",
    "    LBFGS(),\n",
    "    callback = callback,\n",
    "    allow_f_increases = false\n",
    ")"
   ]
  },
  {
   "cell_type": "markdown",
   "id": "1fd82dcc",
   "metadata": {},
   "source": [
    "## Runtime information"
   ]
  },
  {
   "cell_type": "code",
   "execution_count": null,
   "id": "d33513e0",
   "metadata": {},
   "outputs": [],
   "source": [
    "versioninfo()"
   ]
  },
  {
   "cell_type": "code",
   "execution_count": null,
   "id": "cb7f65c4",
   "metadata": {},
   "outputs": [],
   "source": [
    "using Pkg\n",
    "Pkg.status()"
   ]
  }
 ],
 "metadata": {
  "kernelspec": {
   "display_name": "Julia 1.8.3",
   "language": "julia",
   "name": "julia-1.8"
  },
  "language_info": {
   "file_extension": ".jl",
   "mimetype": "application/julia",
   "name": "julia",
   "version": "1.8.3"
  }
 },
 "nbformat": 4,
 "nbformat_minor": 5
}
